{
 "cells": [
  {
   "cell_type": "markdown",
   "metadata": {},
   "source": [
    "# basic data processing and plotting\n",
    "### Stefan Nielsen, March 2019\n",
    "### Performs the following operations:\n",
    "- Load sac file \n",
    "- extract a time slice\n",
    "- use high-pass filter on the slice\n",
    "- plot waveform in a drumplot-like combined figure and corresponding spectrogram"
   ]
  },
  {
   "cell_type": "markdown",
   "metadata": {},
   "source": [
    "# Initialisation code cells:"
   ]
  },
  {
   "cell_type": "code",
   "execution_count": 1,
   "metadata": {},
   "outputs": [
    {
     "data": {
      "application/javascript": [
       "IPython.OutputArea.prototype._should_scroll = function(lines) {\n",
       "    return false;\n",
       "}\n"
      ],
      "text/plain": [
       "<IPython.core.display.Javascript object>"
      ]
     },
     "metadata": {},
     "output_type": "display_data"
    }
   ],
   "source": [
    "%%javascript\n",
    "IPython.OutputArea.prototype._should_scroll = function(lines) {\n",
    "    return false;\n",
    "}"
   ]
  },
  {
   "cell_type": "code",
   "execution_count": 2,
   "metadata": {
    "scrolled": false
   },
   "outputs": [],
   "source": [
    "import obspy\n",
    "import obspy.signal\n",
    "from obspy import read\n",
    "from obspy.imaging.spectrogram import spectrogram\n",
    "from obspy.signal.cross_correlation import correlate,xcorr_max\n",
    "import numpy as np\n",
    "import copy\n",
    "%matplotlib notebook\n",
    "import matplotlib\n",
    "import matplotlib.pyplot as plt"
   ]
  },
  {
   "cell_type": "markdown",
   "metadata": {},
   "source": [
    "# Read the sac file \n",
    "- upload the desired file <br>\n",
    "(this should be done in the folder view after connecting that looks like this:\n",
    "<img src=\"files/sc2.png\" width=\"400\"> \n",
    "clic on \"Upload\" in the top right corner)\n",
    "- replace the name of the actual file you want to read in the cell below"
   ]
  },
  {
   "cell_type": "code",
   "execution_count": 5,
   "metadata": {
    "scrolled": false
   },
   "outputs": [
    {
     "data": {
      "text/plain": [
       "1 Trace(s) in Stream:\n",
       "HL.NISR..HHZ | 2014-09-07T00:00:00.330000Z - 2014-09-07T11:59:59.330000Z | 100.0 Hz, 4319901 samples"
      ]
     },
     "execution_count": 5,
     "metadata": {},
     "output_type": "execute_result"
    }
   ],
   "source": [
    "st=read('2014-09-07a.sac') # replace file name in here\n",
    "dt = st[0].stats.starttime\n",
    "st"
   ]
  },
  {
   "cell_type": "markdown",
   "metadata": {},
   "source": [
    "# Take a slice, time is in seconds from start of datafile:"
   ]
  },
  {
   "cell_type": "code",
   "execution_count": null,
   "metadata": {},
   "outputs": [],
   "source": [
    "sli=st[0].slice(starttime=dt + 3600*2 + 60*41 + 15, endtime=dt + 3600*2 + 60*43 + 0);"
   ]
  },
  {
   "cell_type": "code",
   "execution_count": null,
   "metadata": {
    "scrolled": true
   },
   "outputs": [],
   "source": [
    "#plot spectrogram:\n",
    "sli.spectrogram()"
   ]
  },
  {
   "cell_type": "markdown",
   "metadata": {},
   "source": [
    "## high-pass filter"
   ]
  },
  {
   "cell_type": "code",
   "execution_count": null,
   "metadata": {
    "scrolled": true
   },
   "outputs": [],
   "source": [
    "slif=sli.filter(\"highpass\",freq=20)\n",
    "slif.spectrogram()"
   ]
  },
  {
   "cell_type": "code",
   "execution_count": null,
   "metadata": {
    "scrolled": true
   },
   "outputs": [],
   "source": [
    "slif.plot()"
   ]
  },
  {
   "cell_type": "markdown",
   "metadata": {},
   "source": [
    "# plot combined figure with waveform in 20 windows and spectrogram at the bottom:"
   ]
  },
  {
   "cell_type": "code",
   "execution_count": null,
   "metadata": {},
   "outputs": [],
   "source": [
    "%matplotlib notebook\n",
    "import matplotlib\n",
    "import matplotlib.pyplot as plt\n",
    "i=0\n",
    "fig, ax = plt.subplots(21,1,figsize=(10,20))\n",
    "plt.subplots_adjust(hspace=.5)\n",
    "#make time vector\n",
    "t = np.arange(slif.stats.npts) / slif.stats.sampling_rate\n",
    "tstart=slif.stats.starttime\n",
    "#plot waveform (top subfigure)    \n",
    "nn=len(slif.data)\n",
    "l=int(nn/20);\n",
    "for i in range(20):\n",
    "    ax[i].plot(t[i*l:(i+1)*l], slif.data[i*l:(i+1)*l],'k',linewidth=0.4)\n",
    "    ax[i].set_ylim(-300,+300)\n",
    "#\n",
    "slif.spectrogram(axes=ax[20], clip=([0,.4]));"
   ]
  },
  {
   "cell_type": "code",
   "execution_count": null,
   "metadata": {},
   "outputs": [],
   "source": [
    "# save last plot to file:\n",
    "plt.savefig('myplot.png')\n",
    "plt.savefig('myplot.pdf')"
   ]
  },
  {
   "cell_type": "markdown",
   "metadata": {},
   "source": [
    "<br><br><br>\n",
    "# Old stuff:"
   ]
  },
  {
   "cell_type": "code",
   "execution_count": null,
   "metadata": {},
   "outputs": [],
   "source": [
    "sts=copy.copy(st[0]);\n",
    "dt = sts.stats.starttime\n",
    "sts.filter(\"highpass\",freq=.5)\n",
    "sts.filter(\"lowpass\",freq=8)\n",
    "sts.plot(starttime=dt + 60*59+60, endtime=dt + 60*60 + 15,handle=True);"
   ]
  },
  {
   "cell_type": "code",
   "execution_count": null,
   "metadata": {
    "scrolled": false
   },
   "outputs": [],
   "source": [
    "def tupac(i):\n",
    "    t1=120;t2=150;\n",
    "    fig = plt.figure()\n",
    "    ax1 = fig.add_axes([0.1, 0.5, 0.7, 0.45]) #[left bottom width height]\n",
    "    ax2 = fig.add_axes([0.1, 0.1, 0.7, 0.35], sharex=ax1)\n",
    "    #ax3 = fig.add_axes([0.83, 0.1, 0.03, 0.6])\n",
    "    #make time vector\n",
    "    t = np.arange(st[i].stats.npts) / st[i].stats.sampling_rate\n",
    "    tstart=st[i].stats.starttime\n",
    "    #plot waveform (top subfigure)    \n",
    "    ax1.plot(t, st[i].data, 'k')\n",
    "    ax1.set_xlim(t1,t2)\n",
    "    ax1.set_title(str(tstart)[0:25])\n",
    "    #plot spectrogram (bottom subfigure)\n",
    "    spl2 = st[i]\n",
    "    spl2.spectrogram(show=False, axes=ax2, log=True)\n",
    "    ax2.set_xlim(t1,t2)\n",
    "    #mappable = ax2.images[0]\n",
    "    #plt.colorbar(mappable=mappable, cax=ax3)\n",
    "    fig.savefig('./Figures/f'+str(i)+'.png')\n",
    "    plt.close(fig)conda install obspy"
   ]
  },
  {
   "cell_type": "code",
   "execution_count": null,
   "metadata": {},
   "outputs": [],
   "source": [
    "plt.ioff()\n",
    "for i in range(500,600):\n",
    "    print(i)\n",
    "    tupac(i)"
   ]
  },
  {
   "cell_type": "markdown",
   "metadata": {},
   "source": [
    "# Day long"
   ]
  },
  {
   "cell_type": "code",
   "execution_count": null,
   "metadata": {},
   "outputs": [],
   "source": [
    "day=read('Package_1548785116914_1.mseed')\n",
    "day0=copy.copy(day[0])\n",
    "dt=day0.stats.starttime\n",
    "dte=day0.stats.endtime"
   ]
  },
  {
   "cell_type": "code",
   "execution_count": null,
   "metadata": {
    "scrolled": true
   },
   "outputs": [],
   "source": [
    "i=0\n",
    "fig = plt.figure()\n",
    "ax1 = fig.add_axes([0.1, 0.5, 0.7, 0.45]) #[left bottom width height]\n",
    "ax2 = fig.add_axes([0.1, 0.1, 0.7, 0.35], sharex=ax1)\n",
    "#make time vector\n",
    "t = np.arange(st[i].stats.npts) / st[i].stats.sampling_rate\n",
    "tstart=st[i].stats.starttime\n",
    "#plot waveform (top subfigure)    \n",
    "ax1.plot(t, st[i].data, 'k')\n",
    "#ax1.set_xlim(100,200)\n",
    "ax1.set_title(str(tstart+100)[0:25])\n",
    "#plot spectrogram (bottom subfigure)\n",
    "st[i].spectrogram(axes=ax2, log=True, clip=([0,.4]));\n",
    "#spl2 = st[i]\n",
    "#spl2.spectrogram(show=False, axes=ax2, log=True)\n",
    "#ax2.set_xlim(100,200)\n",
    "#mappable = ax2.images[0]\n",
    "#plt.colorbar(mappable=mappable, cax=ax3)"
   ]
  },
  {
   "cell_type": "code",
   "execution_count": null,
   "metadata": {},
   "outputs": [],
   "source": [
    "dt,dte,dt+3600"
   ]
  },
  {
   "cell_type": "code",
   "execution_count": null,
   "metadata": {},
   "outputs": [],
   "source": [
    "np=5;\n",
    "daysl=[day0.slice(dt+1+3600*i, dt+1+3600*(i+1)) for i in range(np)]\n",
    "fig,ax = plt.subplots(np,1,figsize=(5,10));\n",
    "for i in range(np):\n",
    "    dts=daysl[i].stats.starttime\n",
    "    daysl[i].spectrogram(log=True,clip=([0,.2]),axes=ax[i]);ax[i].set_ylim([1,25])\n",
    "    ax[i].set_title(str(dts))\n",
    "fig.subplots_adjust(left=None, bottom=None, right=None, top=None, wspace=None, hspace=.5)"
   ]
  },
  {
   "cell_type": "code",
   "execution_count": null,
   "metadata": {},
   "outputs": [],
   "source": [
    "fig=day[0].plot(type='dayplot',handle=True)\n",
    "ax=fig.axes[-1]\n",
    "ax.set_ylim([0,10]);\n",
    "ax.set_xlim([0, 1000]);"
   ]
  },
  {
   "cell_type": "markdown",
   "metadata": {},
   "source": [
    "# Correlation between two seismograms"
   ]
  },
  {
   "cell_type": "code",
   "execution_count": null,
   "metadata": {},
   "outputs": [],
   "source": [
    "from obspy.signal.cross_correlation import correlate,xcorr_max\n",
    "#cc=correlate(st[564],st[565],int(len(st[564])/2))\n",
    "cc=correlate(st[564],st[565],10000)"
   ]
  },
  {
   "cell_type": "code",
   "execution_count": null,
   "metadata": {},
   "outputs": [],
   "source": [
    "fig,ax=plt.subplots(3,1)\n",
    "ax[0].plot(cc)\n",
    "ax[1].plot(st[564])\n",
    "ax[2].plot(st[565])\n",
    "ax[1].set_xlim(24500,28000)\n",
    "ax[2].set_xlim(24500,28000)"
   ]
  },
  {
   "cell_type": "code",
   "execution_count": null,
   "metadata": {},
   "outputs": [],
   "source": [
    "sh=xcorr_max(cc, abs_max=True)\n",
    "print(sh[0]/2,sh[1])"
   ]
  },
  {
   "cell_type": "code",
   "execution_count": null,
   "metadata": {
    "scrolled": true
   },
   "outputs": [],
   "source": [
    "%matplotlib notebook\n",
    "fig=plt.figure()\n",
    "ax1 = fig.add_axes([0.1, 0.5, 0.7, 0.45]) #[left bottom width height]\n",
    "ax2 = fig.add_axes([0.1, 0.1, 0.7, 0.35])\n",
    "ax1.plot(st[564]);ax1.set_xlim(24500+sh[0]/2,28000+sh[0]/2)\n",
    "ax2.plot(st[565]);ax2.set_xlim(24500,28000)"
   ]
  },
  {
   "cell_type": "markdown",
   "metadata": {},
   "source": [
    "Self-correlation (test):"
   ]
  },
  {
   "cell_type": "code",
   "execution_count": null,
   "metadata": {},
   "outputs": [],
   "source": [
    "ca=correlate(st[564],st[564],200)\n",
    "#\n",
    "fig,ax=plt.subplots(3,1)\n",
    "ax[0].plot(ca)\n",
    "ax[1].plot(st[564])\n",
    "ax[2].plot(st[564])\n",
    "ax[1].set_xlim(24500,28000)\n",
    "ax[2].set_xlim(24500,28000)\n",
    "#\n",
    "sh=xcorr_max(ca, abs_max=True)\n",
    "print(sh[0]/2,sh[1])"
   ]
  },
  {
   "cell_type": "markdown",
   "metadata": {},
   "source": [
    "# Correlation between any two traces"
   ]
  },
  {
   "cell_type": "code",
   "execution_count": null,
   "metadata": {},
   "outputs": [],
   "source": [
    "from IPython.display import display, clear_output\n",
    "i=539\n",
    "for j in range(550,600):\n",
    "    ca=correlate(st[i],st[j],1000)\n",
    "    sh=xcorr_max(ca, abs_max=True)\n",
    "    clear_output(wait=True)\n",
    "    print(i,\"#\",j,\"#\",sh[0]/2,\"#\",sh[1])\n",
    "    if sh[1]>.3 :\n",
    "        fig,ax=plt.subplots(3,1)\n",
    "        ax[0].plot(ca);ax[0].set_title(str(i)+\"vs.\"+str(j))\n",
    "        ax[1].plot(st[i])\n",
    "        ax[2].plot(st[j])\n",
    "        ax[1].set_xlim(24500,28000)\n",
    "        ax[2].set_xlim(24500,28000)\n",
    "        fig.savefig(\"corr\"+str(i)+\"VS\"+str(j)+\".png\")\n",
    "        #break\n",
    "#"
   ]
  },
  {
   "cell_type": "markdown",
   "metadata": {},
   "source": [
    "# Old stuff"
   ]
  },
  {
   "cell_type": "code",
   "execution_count": null,
   "metadata": {},
   "outputs": [],
   "source": [
    "from datetime import datetime  \n",
    "from datetime import timedelta  \n",
    "dt+timedelta(seconds=140)"
   ]
  },
  {
   "cell_type": "code",
   "execution_count": null,
   "metadata": {
    "scrolled": true
   },
   "outputs": [],
   "source": [
    "for i in range(0,20):\n",
    "    tupac(i)"
   ]
  },
  {
   "cell_type": "code",
   "execution_count": null,
   "metadata": {},
   "outputs": [],
   "source": []
  },
  {
   "cell_type": "code",
   "execution_count": null,
   "metadata": {
    "scrolled": true
   },
   "outputs": [],
   "source": [
    "for i in range(0,len(st),70):\n",
    "    print(i)\n",
    "    dt = st[i].stats.starttime\n",
    "    tr=st[i][0]\n",
    "    st[i].plot(starttime=dt + 80, endtime=dt + 60 + 240)\n",
    "    st[i].spectrogram(log=True)\n",
    "        #plt.show()"
   ]
  },
  {
   "cell_type": "code",
   "execution_count": null,
   "metadata": {
    "scrolled": true
   },
   "outputs": [],
   "source": [
    "import time\n",
    "try:\n",
    "    for i in range(0,len(st),70):\n",
    "        print(i)\n",
    "        dt = st[i].stats.starttime\n",
    "        st[i].plot(starttime=dt + 80, endtime=dt + 60 + 240)\n",
    "        st[i].spectrogram(log=True)\n",
    "        #plt.show()\n",
    "except KeyboardInterrupt:\n",
    "    pass"
   ]
  },
  {
   "cell_type": "code",
   "execution_count": null,
   "metadata": {
    "scrolled": false
   },
   "outputs": [],
   "source": [
    "st[2].spectrogram()\n",
    "st[2].plot()"
   ]
  },
  {
   "cell_type": "code",
   "execution_count": null,
   "metadata": {
    "scrolled": true
   },
   "outputs": [],
   "source": [
    "tr = st[22]\n",
    "fig = plt.figure()\n",
    "ax = fig.add_subplot(1, 1, 1)\n",
    "ax.plot(tr.times(\"matplotlib\"), tr.data, \"b-\")\n",
    "ax.xaxis_date()\n",
    "fig.autofmt_xdate()"
   ]
  },
  {
   "cell_type": "code",
   "execution_count": null,
   "metadata": {
    "scrolled": false
   },
   "outputs": [],
   "source": [
    "st_filt = st[22].copy()\n",
    "st_filt.filter('lowpass', freq=10, corners=2, zerophase=True)\n",
    "st_filt.filter('highpass', freq=1, corners=2, zerophase=True)"
   ]
  },
  {
   "cell_type": "code",
   "execution_count": null,
   "metadata": {
    "scrolled": false
   },
   "outputs": [],
   "source": [
    "fig = plt.figure()\n",
    "ax = fig.add_subplot(1, 1, 1)\n",
    "ax.plot(st_filt.times(\"matplotlib\"), st_filt.data, \"b-\")\n",
    "ax.xaxis_date()\n",
    "fig.autofmt_xdate()"
   ]
  },
  {
   "cell_type": "code",
   "execution_count": null,
   "metadata": {
    "scrolled": false
   },
   "outputs": [],
   "source": [
    "st2=read(\"Short/*.SAC\")"
   ]
  },
  {
   "cell_type": "code",
   "execution_count": null,
   "metadata": {
    "scrolled": true
   },
   "outputs": [],
   "source": [
    "import time\n",
    "fig,ax=plt.subplots()\n",
    "plt.ion()\n",
    "fig.show()\n",
    "fig.canvas.draw()\n",
    "\n",
    "try:\n",
    "    for i in range(11,13):\n",
    "        ax.clear()\n",
    "        print(i+1)\n",
    "        dt = st2[i].stats.starttime\n",
    "        #st2[i].plot(starttime=dt + 80, endtime=dt + 60 + 240)\n",
    "        #st2[i].spectrogram(log=True)\n",
    "        ax.plot(st2[i].times(\"matplotlib\"),st2[i].data)\n",
    "        fig.canvas.draw()\n",
    "        time.sleep(0.5);\n",
    "except KeyboardInterrupt:\n",
    "    pass"
   ]
  },
  {
   "cell_type": "code",
   "execution_count": null,
   "metadata": {},
   "outputs": [],
   "source": [
    "fig,ax=plt.subplots()\n",
    "ax.plot(st2[195].times(\"matplotlib\"),st2[195].data)\n",
    "fig.show()\n",
    "fig.canvas.draw()"
   ]
  },
  {
   "cell_type": "code",
   "execution_count": null,
   "metadata": {},
   "outputs": [],
   "source": [
    "dt = st2[195].stats.starttime\n",
    "st_filt = st2[195].copy()\n",
    "st_filt.filter('lowpass', freq=4, corners=2, zerophase=True)\n",
    "st_filt.plot(starttime=dt + 120, endtime=dt + 180 ,title=str(i))"
   ]
  },
  {
   "cell_type": "code",
   "execution_count": null,
   "metadata": {
    "scrolled": true
   },
   "outputs": [],
   "source": [
    "import time\n",
    "fig,ax=plt.subplots()\n",
    "plt.ion()\n",
    "fig.show();\n",
    "fig.canvas.draw();\n",
    "try:\n",
    "    for i in [195,200,201,201]:\n",
    "        fig.clear();\n",
    "        dt = st2[i].stats.starttime\n",
    "        st_filt = st2[i].copy()\n",
    "        st_filt.filter('lowpass', freq=4, corners=2, zerophase=True)\n",
    "        st_filt.plot(starttime=dt + 80, endtime=dt + 60 + 240, fig=fig,title=str(i))\n",
    "        plt.title(str(i))\n",
    "        #ax.plot(st2[i].times(\"matplotlib\"),st2[i].data)\n",
    "        #ax=plt.gca()\n",
    "        #fig=plt.gcf()\n",
    "        fig.canvas.draw();\n",
    "        time.sleep(2);\n",
    "except KeyboardInterrupt:\n",
    "    pass"
   ]
  },
  {
   "cell_type": "code",
   "execution_count": null,
   "metadata": {},
   "outputs": [],
   "source": [
    "for i in [47,48,51,52,103,107,187,195,200,201,201,211]:\n",
    "    st2[i].spectrogram(log=True)\n",
    "    plt.title(str(i))"
   ]
  },
  {
   "cell_type": "code",
   "execution_count": null,
   "metadata": {},
   "outputs": [],
   "source": [
    "ax"
   ]
  },
  {
   "cell_type": "code",
   "execution_count": null,
   "metadata": {},
   "outputs": [],
   "source": [
    "st2[40].spectrogram()"
   ]
  },
  {
   "cell_type": "code",
   "execution_count": null,
   "metadata": {},
   "outputs": [],
   "source": [
    "st2[2]"
   ]
  },
  {
   "cell_type": "code",
   "execution_count": null,
   "metadata": {},
   "outputs": [],
   "source": [
    "120*60*100"
   ]
  },
  {
   "cell_type": "code",
   "execution_count": null,
   "metadata": {},
   "outputs": [],
   "source": [
    "slp=read(\"HL.NISR..HHZ.D.2014.230.023348.SAC\")"
   ]
  },
  {
   "cell_type": "code",
   "execution_count": null,
   "metadata": {},
   "outputs": [],
   "source": [
    "fig,ax=plt.subplots(1,1)\n",
    "ax.plot(slp)\n",
    "ax.set_xlim(2000,3000)\n",
    "#ax=slp.plot()\n",
    "#slp.spectrogram(log=True)\n",
    "#ax.set_xlim(2000,10000)"
   ]
  },
  {
   "cell_type": "code",
   "execution_count": null,
   "metadata": {
    "scrolled": true
   },
   "outputs": [],
   "source": [
    "def Old_tupac(i,pmi,pma):\n",
    "    from datetime import datetime  \n",
    "    from datetime import timedelta  \n",
    "    tr = st[i]\n",
    "    nn=len(tr);\n",
    "    tstart=tr.stats.starttime\n",
    "    dt = tr.stats.delta\n",
    "    stim=tstart+pmi\n",
    "    etim=tstart+pma\n",
    "    st_filt = tr.copy()\n",
    "    #st_filt.filter('lowpass', freq=20, corners=2, zerophase=True)\n",
    "    #st_filt.filter('highpass', freq=1, corners=2, zerophase=True)\n",
    "    %matplotlib notebook\n",
    "    fig,(ax1,ax2) = plt.subplots(2,1)\n",
    "    ax1.plot(st_filt.times(\"matplotlib\"),st_filt.data,'k-')\n",
    "    #xlims1=ax1.get_xlim()\n",
    "    #ax1.set_xlim(xlims1[0]+pmi,xlims1[1]+pma)\n",
    "    #ax1.xaxis_date();\n",
    "    ax1.set_title(str(tstart)[0:10])\n",
    "    #fig.autofmt_xdate()\n",
    "    tr.spectrogram(axes=ax2,log=True)\n",
    "    #xlims2=ax2.get_xlim();xd=xlims2[1]-xlims2[0];\n",
    "    #ax2.set_xlim(xlims2[0]+pmi*xd,xlims2[0]+pma*xd)\n",
    "    #ax2.set_xlim(pmi,pma)\n",
    "    #ax2.set_ylim(.1,30)\n",
    "    fig.savefig('./Figures/f'+str(i)+'.png')   \n",
    "    return tstart"
   ]
  },
  {
   "cell_type": "code",
   "execution_count": null,
   "metadata": {},
   "outputs": [],
   "source": []
  }
 ],
 "metadata": {
  "hide_input": false,
  "kernelspec": {
   "display_name": "Python 3",
   "language": "python",
   "name": "python3"
  },
  "language_info": {
   "codemirror_mode": {
    "name": "ipython",
    "version": 3
   },
   "file_extension": ".py",
   "mimetype": "text/x-python",
   "name": "python",
   "nbconvert_exporter": "python",
   "pygments_lexer": "ipython3",
   "version": "3.6.7"
  }
 },
 "nbformat": 4,
 "nbformat_minor": 2
}
