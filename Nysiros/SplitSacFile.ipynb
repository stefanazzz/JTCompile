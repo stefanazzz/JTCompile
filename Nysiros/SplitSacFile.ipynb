{
 "cells": [
  {
   "cell_type": "code",
   "execution_count": 2,
   "metadata": {
    "scrolled": false
   },
   "outputs": [],
   "source": [
    "import obspy\n",
    "import obspy.signal\n",
    "from obspy import read\n",
    "from obspy.imaging.spectrogram import spectrogram\n",
    "from obspy.signal.cross_correlation import correlate,xcorr_max\n",
    "import numpy as np\n",
    "import copy\n",
    "%matplotlib notebook\n",
    "import matplotlib\n",
    "import matplotlib.pyplot as plt"
   ]
  },
  {
   "cell_type": "code",
   "execution_count": 5,
   "metadata": {
    "scrolled": false
   },
   "outputs": [
    {
     "data": {
      "text/plain": [
       "1 Trace(s) in Stream:\n",
       "HL.NISR..HHZ | 2014-09-06T23:59:57.330000Z - 2014-09-08T00:00:01.760000Z | 100.0 Hz, 8640444 samples"
      ]
     },
     "execution_count": 5,
     "metadata": {},
     "output_type": "execute_result"
    }
   ],
   "source": [
    "#st=read(\"Island/*.SAC\")\n",
    "#st\n",
    "st=read('2014_Sept_6-10/HL.NISR..HHZ.D.2014.249.235957.SAC')\n",
    "dt = st[0].stats.starttime\n",
    "et = st[0].stats.endtime\n",
    "st"
   ]
  },
  {
   "cell_type": "code",
   "execution_count": 58,
   "metadata": {},
   "outputs": [],
   "source": [
    "import copy\n",
    "stnew=copy.deepcopy(st);\n",
    "day=stnew.slice(starttime=dt+3,endtime=dt+3600*12+2)  # starts at 3 s and ends at twelve hours (3600*12) and 2 s\n",
    "day.write('2014-09-07a.sac', format='SAC') \n",
    "day=stnew.slice(starttime=dt+3600*12+2,endtime=dt+3600*24+2)  # starts qt 12 h 2s ends at \n",
    "day.write('2014-09-07b.sac', format='SAC') "
   ]
  },
  {
   "cell_type": "code",
   "execution_count": 3,
   "metadata": {},
   "outputs": [
    {
     "data": {
      "text/plain": [
       "1 Trace(s) in Stream:\n",
       "HL.NISR..HHZ | 2014-09-07T00:00:00.330000Z - 2014-09-07T11:59:59.330000Z | 100.0 Hz, 4319901 samples"
      ]
     },
     "execution_count": 3,
     "metadata": {},
     "output_type": "execute_result"
    }
   ],
   "source": [
    "stest=read('2014-09-07a.sac')\n",
    "stest"
   ]
  },
  {
   "cell_type": "code",
   "execution_count": 6,
   "metadata": {},
   "outputs": [
    {
     "data": {
      "text/plain": [
       "10855.46"
      ]
     },
     "execution_count": 6,
     "metadata": {},
     "output_type": "execute_result"
    }
   ],
   "source": [
    "7272.73*2 - 781-93-1448-38-947-383"
   ]
  },
  {
   "cell_type": "code",
   "execution_count": null,
   "metadata": {},
   "outputs": [],
   "source": []
  }
 ],
 "metadata": {
  "hide_input": false,
  "kernelspec": {
   "display_name": "Python 3",
   "language": "python",
   "name": "python3"
  },
  "language_info": {
   "codemirror_mode": {
    "name": "ipython",
    "version": 3
   },
   "file_extension": ".py",
   "mimetype": "text/x-python",
   "name": "python",
   "nbconvert_exporter": "python",
   "pygments_lexer": "ipython3",
   "version": "3.7.1"
  }
 },
 "nbformat": 4,
 "nbformat_minor": 2
}
